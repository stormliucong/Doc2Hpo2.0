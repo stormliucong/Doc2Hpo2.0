{
 "cells": [
  {
   "cell_type": "code",
   "execution_count": 19,
   "metadata": {},
   "outputs": [
    {
     "name": "stderr",
     "output_type": "stream",
     "text": [
      "/Users/cl3720/Desktop/Doc2Hpo2.0/back-end/.venv/lib/python3.12/site-packages/fuzzywuzzy/fuzz.py:11: UserWarning: Using slow pure-python SequenceMatcher. Install python-Levenshtein to remove this warning\n",
      "  warnings.warn('Using slow pure-python SequenceMatcher. Install python-Levenshtein to remove this warning')\n"
     ]
    }
   ],
   "source": [
    "import json\n",
    "import glob\n",
    "import os\n",
    "import pandas as pd\n",
    "# import a library for string similarity calculation\n",
    "from fuzzywuzzy import fuzz\n",
    "import random\n",
    "import string\n"
   ]
  },
  {
   "cell_type": "code",
   "execution_count": 31,
   "metadata": {},
   "outputs": [],
   "source": [
    "# function to calculate string similarity\n",
    "def string_similarity(s1, s2):\n",
    "    # generate a random string with same length of s2\n",
    "    # s2_random = ''.join(random.choices(string.ascii_letters, k=len(s2)))\n",
    "    # bootstrap the string similarity calculation for s2_random and s1 for 100 times\n",
    "    # ci = [fuzz.ratio(s1, s2_random) for i in range(100)]\n",
    "    # calculate the 95% confidence interval\n",
    "    # ci_lower = pd.Series(ci).quantile(0.025)\n",
    "    # ci_upper = pd.Series(ci).quantile(0.975)\n",
    "    # calculate the string similarity for s1 and s2\n",
    "    sim = fuzz.ratio(s1, s2)\n",
    "    return sim"
   ]
  },
  {
   "cell_type": "code",
   "execution_count": 36,
   "metadata": {},
   "outputs": [
    {
     "name": "stdout",
     "output_type": "stream",
     "text": [
      "shift_char: -10\n",
      "Ratio of terms that have a term length vs interval length ratio equal to 1: 13.87%\n",
      "Median string similarity: 23.0\n",
      "shift_char: -9\n",
      "Ratio of terms that have a term length vs interval length ratio equal to 1: 13.87%\n",
      "Median string similarity: 23.0\n",
      "shift_char: -8\n",
      "Ratio of terms that have a term length vs interval length ratio equal to 1: 13.87%\n",
      "Median string similarity: 23.0\n",
      "shift_char: -7\n",
      "Ratio of terms that have a term length vs interval length ratio equal to 1: 13.87%\n",
      "Median string similarity: 23.0\n",
      "shift_char: -6\n",
      "Ratio of terms that have a term length vs interval length ratio equal to 1: 13.87%\n",
      "Median string similarity: 23.0\n",
      "shift_char: -5\n",
      "Ratio of terms that have a term length vs interval length ratio equal to 1: 13.87%\n",
      "Median string similarity: 23.0\n",
      "shift_char: -4\n",
      "Ratio of terms that have a term length vs interval length ratio equal to 1: 13.87%\n",
      "Median string similarity: 23.0\n",
      "shift_char: -3\n",
      "Ratio of terms that have a term length vs interval length ratio equal to 1: 13.87%\n",
      "Median string similarity: 23.0\n",
      "shift_char: -2\n",
      "Ratio of terms that have a term length vs interval length ratio equal to 1: 13.87%\n",
      "Median string similarity: 23.0\n",
      "shift_char: -1\n",
      "Ratio of terms that have a term length vs interval length ratio equal to 1: 13.87%\n",
      "Median string similarity: 23.0\n",
      "shift_char: 0\n",
      "Ratio of terms that have a term length vs interval length ratio equal to 1: 13.87%\n",
      "Median string similarity: 23.0\n",
      "shift_char: 1\n",
      "Ratio of terms that have a term length vs interval length ratio equal to 1: 13.87%\n",
      "Median string similarity: 23.0\n",
      "shift_char: 2\n",
      "Ratio of terms that have a term length vs interval length ratio equal to 1: 13.87%\n",
      "Median string similarity: 23.0\n",
      "shift_char: 3\n",
      "Ratio of terms that have a term length vs interval length ratio equal to 1: 13.87%\n",
      "Median string similarity: 23.0\n",
      "shift_char: 4\n",
      "Ratio of terms that have a term length vs interval length ratio equal to 1: 13.87%\n",
      "Median string similarity: 23.0\n",
      "shift_char: 5\n",
      "Ratio of terms that have a term length vs interval length ratio equal to 1: 13.87%\n",
      "Median string similarity: 23.0\n",
      "shift_char: 6\n",
      "Ratio of terms that have a term length vs interval length ratio equal to 1: 13.87%\n",
      "Median string similarity: 23.0\n",
      "shift_char: 7\n",
      "Ratio of terms that have a term length vs interval length ratio equal to 1: 13.87%\n",
      "Median string similarity: 23.0\n",
      "shift_char: 8\n",
      "Ratio of terms that have a term length vs interval length ratio equal to 1: 13.87%\n",
      "Median string similarity: 23.0\n",
      "shift_char: 9\n",
      "Ratio of terms that have a term length vs interval length ratio equal to 1: 13.87%\n",
      "Median string similarity: 23.0\n"
     ]
    }
   ],
   "source": [
    "json_list = glob.glob('./simulated_pt_coordinate/*.json')\n",
    "rows = []\n",
    "shift_chars = range(-10, 10)\n",
    "for shift_char in shift_chars:\n",
    "    print(f'shift_char: {shift_char}')\n",
    "    for json_file in json_list:\n",
    "        with open(json_file, 'r') as f:\n",
    "            id = os.path.basename(json_file).split('.')[0]\n",
    "            data = json.load(f)\n",
    "            text = data['response']\n",
    "            if 'gpt' in data['matched_hpo']:\n",
    "                terms = data['matched_hpo']['gpt']['terms']\n",
    "                intervals = data['matched_hpo']['gpt']['intervals']\n",
    "            for i in range(len(terms)):\n",
    "                # check if the len of the term equals to the len of the interval\n",
    "                if len(terms) != len(intervals):\n",
    "                    raise ValueError('The length of terms and intervals are not equal.') \n",
    "                start = intervals[i][0] + shift_char\n",
    "                end = intervals[i][1] + shift_char\n",
    "                rows.append([id, terms[i], intervals[i], text[start:end]])\n",
    "    df = pd.DataFrame(rows, columns=['id', 'term', 'interval', 'snippet'])   \n",
    "    df['term_length_vs_interval_length'] = df.apply(lambda x: len(x['term']) / (x['interval'][1] - x['interval'][0]), axis=1)\n",
    "    # percentage of terms that have a term length vs interval length ratio equal to 1 with 2 decimal places\n",
    "    print(f'Ratio of terms that have a term length vs interval length ratio equal to 1: {len(df[df[\"term_length_vs_interval_length\"] == 1]) / len(df) * 100:.2f}%')\n",
    "    df['string_similarity'] = df.apply(lambda x: string_similarity(x['term'], x['snippet']), axis=1)\n",
    "    print(f'Median string similarity: {df[\"string_similarity\"].median()}')"
   ]
  },
  {
   "cell_type": "code",
   "execution_count": 46,
   "metadata": {},
   "outputs": [],
   "source": [
    "# for those terms also appeared in 'ac'\n",
    "# compare the interval distance between 'gpt' and 'ac'\n",
    "json_list = glob.glob('./simulated_pt_coordinate/*.json')\n",
    "rows = []\n",
    "for json_file in json_list:\n",
    "    with open(json_file, 'r') as f:\n",
    "        id = os.path.basename(json_file).split('.')[0]\n",
    "        data = json.load(f)\n",
    "        text = data['response']\n",
    "        if 'gpt' in data['matched_hpo']:\n",
    "            terms_gpt = data['matched_hpo']['gpt']['terms']\n",
    "            intervals_gpt = data['matched_hpo']['gpt']['intervals']\n",
    "        if 'ac' in data['matched_hpo']:\n",
    "            terms_ac = data['matched_hpo']['ac']['terms']\n",
    "            intervals_ac = data['matched_hpo']['ac']['intervals']\n",
    "        for i in range(len(terms_gpt)):\n",
    "            for j in range(len(terms_ac)):\n",
    "                if terms_gpt[i].lower() == terms_ac[j].lower():\n",
    "                    rows.append([id, terms_gpt[i], intervals_gpt[i], intervals_ac[j], abs(intervals_gpt[i][0] - intervals_ac[j][0]), abs(intervals_gpt[i][1] - intervals_ac[j][1])])\n",
    "df = pd.DataFrame(rows, columns=['id', 'term', 'interval_gpt', 'interval_ac', 'distance_start', 'distance_end'])\n",
    "# for same id, and term only retain the one with smalled distance_start\n",
    "df.groupby(['id', 'term']).apply(lambda x: x[x['distance_start'] == x['distance_start'].min()]).reset_index(drop=True)\n"
   ]
  },
  {
   "cell_type": "code",
   "execution_count": 59,
   "metadata": {},
   "outputs": [
    {
     "data": {
      "image/png": "[encoded data removed]",
      "text/plain": [
       "<Figure size 1000x500 with 2 Axes>"
      ]
     },
     "metadata": {},
     "output_type": "display_data"
    }
   ],
   "source": [
    "# plot the distance between 'gpt' and 'ac' for the same term\n",
    "# plot start and end seperately with different colors\n",
    "\n",
    "import matplotlib.pyplot as plt\n",
    "import seaborn as sns\n",
    "sns.set(style='whitegrid')\n",
    "fig, ax = plt.subplots(1, 2, figsize=(10, 5))\n",
    "sns.histplot(df['distance_start'], ax=ax[0], color='skyblue')\n",
    "ax[0].set_title('Distance between start of interval')\n",
    "ax[0].set_xlabel('Distance')\n",
    "ax[0].set_ylabel('Frequency')\n",
    "# set x axis limit between 0 and 250\n",
    "sns.histplot(df['distance_end'], ax=ax[1], color='salmon')\n",
    "ax[1].set_title('Distance between end of interval')\n",
    "ax[1].set_xlabel('Distance')\n",
    "ax[1].set_ylabel('Frequency')\n",
    "plt.tight_layout()\n",
    "plt.show()\n",
    "\n",
    "\n",
    "\n"
   ]
  },
  {
   "cell_type": "code",
   "execution_count": 62,
   "metadata": {},
   "outputs": [
    {
     "data": {
      "text/plain": [
       "count    1329.000000\n",
       "mean     1318.475546\n",
       "std      1148.870947\n",
       "min         1.000000\n",
       "25%       344.000000\n",
       "50%       988.000000\n",
       "75%      2042.000000\n",
       "max      4772.000000\n",
       "Name: distance_end, dtype: float64"
      ]
     },
     "execution_count": 62,
     "metadata": {},
     "output_type": "execute_result"
    }
   ],
   "source": [
    "df['distance_end'].describe()"
   ]
  },
  {
   "cell_type": "code",
   "execution_count": 65,
   "metadata": {},
   "outputs": [
    {
     "data": {
      "text/html": [
       "<div>\n",
       "<style scoped>\n",
       "    .dataframe tbody tr th:only-of-type {\n",
       "        vertical-align: middle;\n",
       "    }\n",
       "\n",
       "    .dataframe tbody tr th {\n",
       "        vertical-align: top;\n",
       "    }\n",
       "\n",
       "    .dataframe thead th {\n",
       "        text-align: right;\n",
       "    }\n",
       "</style>\n",
       "<table border=\"1\" class=\"dataframe\">\n",
       "  <thead>\n",
       "    <tr style=\"text-align: right;\">\n",
       "      <th></th>\n",
       "      <th>id</th>\n",
       "      <th>term</th>\n",
       "      <th>interval_gpt</th>\n",
       "      <th>interval_ac</th>\n",
       "      <th>distance_start</th>\n",
       "      <th>distance_end</th>\n",
       "    </tr>\n",
       "  </thead>\n",
       "  <tbody>\n",
       "    <tr>\n",
       "      <th>26</th>\n",
       "      <td>e02270e6-6889-43df-99a3-7c0886b8ee13</td>\n",
       "      <td>Ectopic thyroid gland</td>\n",
       "      <td>[1084, 1111]</td>\n",
       "      <td>[1089, 1110]</td>\n",
       "      <td>5</td>\n",
       "      <td>1</td>\n",
       "    </tr>\n",
       "    <tr>\n",
       "      <th>42</th>\n",
       "      <td>696756d6-d34e-445f-8d81-6ff0bca3876e</td>\n",
       "      <td>Cognitive decline</td>\n",
       "      <td>[115, 139]</td>\n",
       "      <td>[124, 141]</td>\n",
       "      <td>9</td>\n",
       "      <td>2</td>\n",
       "    </tr>\n",
       "    <tr>\n",
       "      <th>280</th>\n",
       "      <td>edeec48e-cecb-4632-8e95-99f65778bb04</td>\n",
       "      <td>Barrel-shaped chest</td>\n",
       "      <td>[946, 965]</td>\n",
       "      <td>[950, 969]</td>\n",
       "      <td>4</td>\n",
       "      <td>4</td>\n",
       "    </tr>\n",
       "    <tr>\n",
       "      <th>913</th>\n",
       "      <td>a9a7af2b-cd5d-44ee-97fb-87c93d07b93c</td>\n",
       "      <td>Cyanosis</td>\n",
       "      <td>[883, 890]</td>\n",
       "      <td>[878, 886]</td>\n",
       "      <td>5</td>\n",
       "      <td>4</td>\n",
       "    </tr>\n",
       "    <tr>\n",
       "      <th>915</th>\n",
       "      <td>a9a7af2b-cd5d-44ee-97fb-87c93d07b93c</td>\n",
       "      <td>Tachypnea</td>\n",
       "      <td>[895, 903]</td>\n",
       "      <td>[891, 900]</td>\n",
       "      <td>4</td>\n",
       "      <td>3</td>\n",
       "    </tr>\n",
       "    <tr>\n",
       "      <th>1193</th>\n",
       "      <td>366a029c-e7c6-4875-9d7a-287f3530b77a</td>\n",
       "      <td>Coarse hair</td>\n",
       "      <td>[1340, 1353]</td>\n",
       "      <td>[1338, 1349]</td>\n",
       "      <td>2</td>\n",
       "      <td>4</td>\n",
       "    </tr>\n",
       "  </tbody>\n",
       "</table>\n",
       "</div>"
      ],
      "text/plain": [
       "                                        id                   term  \\\n",
       "26    e02270e6-6889-43df-99a3-7c0886b8ee13  Ectopic thyroid gland   \n",
       "42    696756d6-d34e-445f-8d81-6ff0bca3876e      Cognitive decline   \n",
       "280   edeec48e-cecb-4632-8e95-99f65778bb04    Barrel-shaped chest   \n",
       "913   a9a7af2b-cd5d-44ee-97fb-87c93d07b93c               Cyanosis   \n",
       "915   a9a7af2b-cd5d-44ee-97fb-87c93d07b93c              Tachypnea   \n",
       "1193  366a029c-e7c6-4875-9d7a-287f3530b77a            Coarse hair   \n",
       "\n",
       "      interval_gpt   interval_ac  distance_start  distance_end  \n",
       "26    [1084, 1111]  [1089, 1110]               5             1  \n",
       "42      [115, 139]    [124, 141]               9             2  \n",
       "280     [946, 965]    [950, 969]               4             4  \n",
       "913     [883, 890]    [878, 886]               5             4  \n",
       "915     [895, 903]    [891, 900]               4             3  \n",
       "1193  [1340, 1353]  [1338, 1349]               2             4  "
      ]
     },
     "execution_count": 65,
     "metadata": {},
     "output_type": "execute_result"
    }
   ],
   "source": [
    "df[df['distance_end'] < 5]"
   ]
  },
  {
   "cell_type": "code",
   "execution_count": null,
   "metadata": {},
   "outputs": [],
   "source": []
  }
 ],
 "metadata": {
  "kernelspec": {
   "display_name": ".venv",
   "language": "python",
   "name": "python3"
  },
  "language_info": {
   "codemirror_mode": {
    "name": "ipython",
    "version": 3
   },
   "file_extension": ".py",
   "mimetype": "text/x-python",
   "name": "python",
   "nbconvert_exporter": "python",
   "pygments_lexer": "ipython3",
   "version": "3.12.4"
  }
 },
 "nbformat": 4,
 "nbformat_minor": 2
}
