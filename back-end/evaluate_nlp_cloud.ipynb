{
 "cells": [
  {
   "cell_type": "code",
   "execution_count": 1,
   "metadata": {},
   "outputs": [],
   "source": [
    "text = '''Age: 45 years\n",
    "Gender: Female\n",
    "Presentation: The patient reports persistent fatigue over the past six months, accompanied by muscle weakness in the upper arms and thighs. She also experiences morning stiffness lasting more than 30 minutes and difficulty climbing stairs or lifting objects. Skin changes include a purple rash around the eyes (heliotrope rash) and red, scaly patches on the knuckles (Gottron’s papules).\n",
    "Family History: Mother diagnosed with rheumatoid arthritis.\n",
    "Preliminary Diagnosis: Suspected dermatomyositis, pending muscle enzyme studies and skin biopsy. No muscular dystropy detected\n",
    "HPO_terms: fever, cough, Urinary urgency, Functional abnormality of male internal genitalia, Hypospadias, urinary urgency'''"
   ]
  },
  {
   "cell_type": "code",
   "execution_count": 4,
   "metadata": {},
   "outputs": [
    {
     "data": {
      "text/plain": [
       "'difficulty climbing stairs'"
      ]
     },
     "execution_count": 4,
     "metadata": {},
     "output_type": "execute_result"
    }
   ],
   "source": [
    "text[241:267]"
   ]
  },
  {
   "cell_type": "code",
   "execution_count": null,
   "metadata": {},
   "outputs": [],
   "source": []
  }
 ],
 "metadata": {
  "kernelspec": {
   "display_name": ".venv",
   "language": "python",
   "name": "python3"
  },
  "language_info": {
   "codemirror_mode": {
    "name": "ipython",
    "version": 3
   },
   "file_extension": ".py",
   "mimetype": "text/x-python",
   "name": "python",
   "nbconvert_exporter": "python",
   "pygments_lexer": "ipython3",
   "version": "3.12.4"
  }
 },
 "nbformat": 4,
 "nbformat_minor": 2
}
