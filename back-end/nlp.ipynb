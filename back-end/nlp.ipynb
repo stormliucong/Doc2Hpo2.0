{
 "cells": [
  {
   "cell_type": "code",
   "execution_count": 5,
   "metadata": {},
   "outputs": [],
   "source": [
    "import spacy\n",
    "from scispacy.linking import EntityLinker\n",
    "from scispacy.abbreviation import AbbreviationDetector\n",
    "from scispacy.hyponym_detector import HyponymDetector"
   ]
  },
  {
   "cell_type": "code",
   "execution_count": 57,
   "metadata": {},
   "outputs": [],
   "source": [
    "from HpoFactory import HpoFactory\n",
    "from HpoLookup import HpoLookup\n",
    "hpo_F = HpoFactory()\n",
    "hpo_tree = hpo_F.build_hpo_tree()\n",
    "hpo_ancestors = hpo_F.get_hpo_ancestors(hpo_tree)\n",
    "hpo_levels = hpo_F.get_hpo_levels(hpo_tree)\n",
    "hpo_dict, hpo_name_dict = hpo_F.build_hpo_dict(hpo_ancestors)\n",
    "hpo_dict = hpo_F.expand_hpo_dict(hpo_dict)"
   ]
  },
  {
   "cell_type": "code",
   "execution_count": 6,
   "metadata": {},
   "outputs": [
    {
     "name": "stderr",
     "output_type": "stream",
     "text": [
      "/Users/cl3720/Desktop/Doc2Hpo2.0/back-end/.venv/lib/python3.12/site-packages/spacy/language.py:2195: FutureWarning: Possible set union at position 6328\n",
      "  deserializers[\"tokenizer\"] = lambda p: self.tokenizer.from_disk(  # type: ignore[union-attr]\n",
      "/Users/cl3720/Desktop/Doc2Hpo2.0/back-end/.venv/lib/python3.12/site-packages/sklearn/base.py:376: InconsistentVersionWarning: Trying to unpickle estimator TfidfTransformer from version 1.1.2 when using version 1.5.2. This might lead to breaking code or invalid results. Use at your own risk. For more info please refer to:\n",
      "https://scikit-learn.org/stable/model_persistence.html#security-maintainability-limitations\n",
      "  warnings.warn(\n",
      "/Users/cl3720/Desktop/Doc2Hpo2.0/back-end/.venv/lib/python3.12/site-packages/sklearn/base.py:376: InconsistentVersionWarning: Trying to unpickle estimator TfidfVectorizer from version 1.1.2 when using version 1.5.2. This might lead to breaking code or invalid results. Use at your own risk. For more info please refer to:\n",
      "https://scikit-learn.org/stable/model_persistence.html#security-maintainability-limitations\n",
      "  warnings.warn(\n"
     ]
    },
    {
     "data": {
      "text/plain": [
       "<scispacy.linking.EntityLinker at 0x167ada810>"
      ]
     },
     "execution_count": 6,
     "metadata": {},
     "output_type": "execute_result"
    }
   ],
   "source": [
    "nlp = spacy.load(\"en_core_sci_sm\")\n",
    "nlp.add_pipe(\"abbreviation_detector\")\n",
    "nlp.add_pipe(\"hyponym_detector\", last=True, config={\"extended\": False})\n",
    "nlp.add_pipe(\"scispacy_linker\", config={\"resolve_abbreviations\": True, \"linker_name\": \"hpo\"})"
   ]
  },
  {
   "cell_type": "code",
   "execution_count": 7,
   "metadata": {},
   "outputs": [],
   "source": [
    "with open('demo_patient_1.txt', 'r') as f:\n",
    "    text = f.read()"
   ]
  },
  {
   "cell_type": "code",
   "execution_count": 8,
   "metadata": {},
   "outputs": [
    {
     "name": "stderr",
     "output_type": "stream",
     "text": [
      "/Users/cl3720/Desktop/Doc2Hpo2.0/back-end/.venv/lib/python3.12/site-packages/scispacy/abbreviation.py:248: UserWarning: [W036] The component 'matcher' does not have any patterns defined.\n",
      "  global_matches = self.global_matcher(doc)\n"
     ]
    }
   ],
   "source": [
    "doc = nlp(text)"
   ]
  },
  {
   "cell_type": "code",
   "execution_count": 86,
   "metadata": {},
   "outputs": [
    {
     "data": {
      "text/plain": [
       "(Age,\n",
       " years,\n",
       " Female,\n",
       " Presentation,\n",
       " patient reports,\n",
       " persistent,\n",
       " fatigue,\n",
       " months,\n",
       " muscle weakness,\n",
       " upper arms,\n",
       " thighs,\n",
       " morning stiffness,\n",
       " minutes,\n",
       " difficulty climbing stairs,\n",
       " lifting objects,\n",
       " Skin changes,\n",
       " purple rash,\n",
       " eyes,\n",
       " heliotrope rash,\n",
       " red,\n",
       " scaly,\n",
       " knuckles,\n",
       " Gottron’s papules,\n",
       " Mother,\n",
       " diagnosed,\n",
       " rheumatoid arthritis,\n",
       " Preliminary,\n",
       " Diagnosis,\n",
       " Suspected,\n",
       " dermatomyositis,\n",
       " pending muscle,\n",
       " enzyme studies,\n",
       " skin biopsy,\n",
       " HPO_terms,\n",
       " Urinary urgency,\n",
       " Functional abnormality,\n",
       " male,\n",
       " Hypospadias,\n",
       " urinary urgency)"
      ]
     },
     "execution_count": 86,
     "metadata": {},
     "output_type": "execute_result"
    }
   ],
   "source": [
    "doc.ents"
   ]
  },
  {
   "cell_type": "code",
   "execution_count": 79,
   "metadata": {},
   "outputs": [
    {
     "name": "stdout",
     "output_type": "stream",
     "text": [
      "persistent 14 15 ('C0476474', 0.7588739395141602) Persistent fever HP:0033399\n",
      "fatigue 15 16 ('C0015672', 0.9689005017280579) Fatigue HP:0012378\n",
      "muscle weakness 24 26 ('C0151786', 0.9846422076225281) Muscular weakness HP:0001324\n",
      "upper arms 28 30 ('C1832117', 0.8244901895523071) Short humerus HP:0005792\n",
      "morning stiffness 36 38 ('C4025238', 0.8040806651115417) Generalized morning stiffness HP:0005197\n",
      "difficulty climbing stairs 44 47 ('C0239067', 0.9722282290458679) Difficulty climbing stairs HP:0003551\n",
      "Skin changes 51 53 ('C1260926', 0.7077376246452332) Abnormality of skin pigmentation HP:0001000\n",
      "eyes 59 60 ('C0235267', 0.8275376558303833) Red eye HP:0025337\n",
      "heliotrope rash 61 63 ('C4477048', 0.9855683445930481) Heliotrope rash HP:0040324\n",
      "scaly 67 68 ('C0237849', 0.7621837258338928) Scaly skin HP:0040189\n",
      "Gottron’s papules 73 76 ('C0423781', 0.9587185382843018) Gottron's papules HP:0025508\n",
      "rheumatoid arthritis 85 87 ('C0003873', 0.9730103611946106) RA HP:0001370\n",
      "Urinary urgency 106 108 ('C0085606', 0.9817091226577759) Urinary urgency HP:0000012\n",
      "Functional abnormality 109 111 ('C0151746', 0.8780350089073181) Abnormality of renal physiology HP:0012211\n",
      "Hypospadias 116 117 ('C0848558', 0.9733116626739502) Hypospadias HP:0000047\n",
      "urinary urgency 118 120 ('C0085606', 0.9817091226577759) Urinary urgency HP:0000012\n"
     ]
    }
   ],
   "source": [
    "linker = nlp.get_pipe(\"scispacy_linker\")\n",
    "linker.threshold = 0.7\n",
    "for entity in doc.ents:\n",
    "    all_ents = entity._.kb_ents\n",
    "    if len(entity._.kb_ents) > 0:\n",
    "        umls_ent = entity._.kb_ents[0]\n",
    "        hpo_name = linker.kb.cui_to_entity[umls_ent[0]].canonical_name\n",
    "        hpo_id = hpo_dict[hpo_name] if hpo_name in hpo_dict else None\n",
    "        if hpo_id is not None:\n",
    "            print(entity.text,entity.start, entity.end, umls_ent, hpo_name, hpo_id)"
   ]
  },
  {
   "cell_type": "code",
   "execution_count": 70,
   "metadata": {},
   "outputs": [
    {
     "data": {
      "text/plain": [
       "'Fatigue'"
      ]
     },
     "execution_count": 70,
     "metadata": {},
     "output_type": "execute_result"
    }
   ],
   "source": [
    "linker.kb.cui_to_entity['C0015672'].canonical_name"
   ]
  },
  {
   "cell_type": "code",
   "execution_count": 72,
   "metadata": {},
   "outputs": [
    {
     "data": {
      "text/plain": [
       "'Urinary urgency'"
      ]
     },
     "execution_count": 72,
     "metadata": {},
     "output_type": "execute_result"
    }
   ],
   "source": [
    "linker.kb.cui_to_entity[umls_ent[0]].canonical_name"
   ]
  },
  {
   "cell_type": "code",
   "execution_count": 73,
   "metadata": {},
   "outputs": [
    {
     "data": {
      "text/plain": [
       "'HP:0000012'"
      ]
     },
     "execution_count": 73,
     "metadata": {},
     "output_type": "execute_result"
    }
   ],
   "source": [
    "hpo_dict['Urinary urgency']"
   ]
  },
  {
   "cell_type": "code",
   "execution_count": 75,
   "metadata": {},
   "outputs": [
    {
     "data": {
      "text/plain": [
       "[]"
      ]
     },
     "execution_count": 75,
     "metadata": {},
     "output_type": "execute_result"
    }
   ],
   "source": [
    "[hpo_dict[hpo_name] for hpo_name in hpo_names if hpo_name in hpo_dict]"
   ]
  },
  {
   "cell_type": "code",
   "execution_count": 91,
   "metadata": {},
   "outputs": [
    {
     "data": {
      "text/plain": [
       "666"
      ]
     },
     "execution_count": 91,
     "metadata": {},
     "output_type": "execute_result"
    }
   ],
   "source": [
    "entity.start_char"
   ]
  },
  {
   "cell_type": "code",
   "execution_count": 92,
   "metadata": {},
   "outputs": [
    {
     "data": {
      "text/plain": [
       "681"
      ]
     },
     "execution_count": 92,
     "metadata": {},
     "output_type": "execute_result"
    }
   ],
   "source": [
    "entity.end_char"
   ]
  },
  {
   "cell_type": "code",
   "execution_count": null,
   "metadata": {},
   "outputs": [],
   "source": []
  }
 ],
 "metadata": {
  "kernelspec": {
   "display_name": ".venv",
   "language": "python",
   "name": "python3"
  },
  "language_info": {
   "codemirror_mode": {
    "name": "ipython",
    "version": 3
   },
   "file_extension": ".py",
   "mimetype": "text/x-python",
   "name": "python",
   "nbconvert_exporter": "python",
   "pygments_lexer": "ipython3",
   "version": "3.12.4"
  }
 },
 "nbformat": 4,
 "nbformat_minor": 2
}
