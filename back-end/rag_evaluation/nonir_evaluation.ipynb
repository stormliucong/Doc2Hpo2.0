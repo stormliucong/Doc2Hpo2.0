{
 "cells": [
  {
   "cell_type": "code",
   "execution_count": 58,
   "metadata": {},
   "outputs": [],
   "source": [
    "# We intended to use nonIR or embedding based approach for identify the correct HPO IDs\n",
    "# We will write an instruction to ask GPT to compare the top 5 returned results and ask GPT to select the most similar one\n",
    "\n",
    "from openai import OpenAI\n",
    "from pydantic import BaseModel\n",
    "import os\n",
    "import json\n",
    "import requests\n",
    "import time\n",
    "import pandas as pd\n",
    "import numpy as np\n",
    "import re\n",
    "# import modules in the parent directory\n",
    "import sys\n",
    "sys.path.append('..')\n",
    "from HpoDatabase import HpoDatabase\n",
    "\n",
    "# prepare HPO dict\n",
    "db_path = '../hpo_chroma_db'\n",
    "obo_path = '../hp.obo'\n",
    "hpo_db = HpoDatabase(obo_path=obo_path, db_path=db_path, woosh_path=None, embedding_model='text-embedding-3-large')\n",
    "hpo_object_list = hpo_db.parse_obo(obo_path)\n",
    "hpo_object_df = pd.DataFrame(hpo_object_list)\n",
    "\n",
    "# Load rag_evaluation\n",
    "# top 5 match\n",
    "result_json = './rag_evaluation_query_results_top5_text-embedding-3-large.json'\n",
    "# load the query results from the json file\n",
    "with open(result_json, 'r') as f:\n",
    "    query_results = json.load(f)\n"
   ]
  },
  {
   "cell_type": "code",
   "execution_count": 59,
   "metadata": {},
   "outputs": [],
   "source": [
    "# user input key\n",
    "openai_api_key = input(\"Enter your OpenAI API key: \")\n",
    "open_ai_model = 'gpt-4o-2024-08-06'"
   ]
  },
  {
   "cell_type": "code",
   "execution_count": 10,
   "metadata": {},
   "outputs": [],
   "source": [
    "# convert query_results into pandas dataframe\n",
    "# Flatten the dictionary\n",
    "rows = []\n",
    "for key, value in query_results.items():\n",
    "    for entry in value:\n",
    "        synonym = entry.get('synonym', '')\n",
    "        for result in entry.get('parsed_results', []):\n",
    "            hp_id = result['hpo_id']\n",
    "            document = hpo_object_df[hpo_object_df['id'] == hp_id]['document'].values[0]\n",
    "            rows.append({\n",
    "                'query_hpo_id': key,\n",
    "                'query_synonym': synonym,\n",
    "                'hit_hpo_id': result['hpo_id'],\n",
    "                'hit_hpo_name': result['hpo_name'],\n",
    "                'top_k': result['top_k'],\n",
    "                'distance': result['distance'],\n",
    "                'document': document\n",
    "            })"
   ]
  },
  {
   "cell_type": "code",
   "execution_count": 34,
   "metadata": {},
   "outputs": [],
   "source": [
    "comparison_df = pd.DataFrame(rows)"
   ]
  },
  {
   "cell_type": "code",
   "execution_count": 64,
   "metadata": {},
   "outputs": [],
   "source": [
    "comparison_df.to_csv('nonir_comparison_df.csv', index=False)"
   ]
  },
  {
   "cell_type": "code",
   "execution_count": 70,
   "metadata": {},
   "outputs": [
    {
     "name": "stderr",
     "output_type": "stream",
     "text": [
      "/var/folders/jt/xqkngjbx2vj5dhrgmccfc01m0000gp/T/ipykernel_86224/613347357.py:10: DeprecationWarning: DataFrameGroupBy.apply operated on the grouping columns. This behavior is deprecated, and in a future version of pandas the grouping columns will be excluded from the operation. Either pass `include_groups=False` to exclude the groupings or explicitly select the grouping columns after groupby to silence this warning.\n",
      "  query_hpo_synonym_list = matched_df.groupby('query_hpo_id').apply(lambda x: x.sample(1))\n"
     ]
    }
   ],
   "source": [
    "# subset hit correct with top 5\n",
    "matched_df = comparison_df[comparison_df['hit_hpo_id'] == comparison_df['query_hpo_id']]\n",
    "# get unique query_hpo_id\n",
    "query_hpo_id_list = matched_df['query_hpo_id'].unique()\n",
    "# sample 100 query_hpo_id\n",
    "query_hpo_id_list = np.random.choice(query_hpo_id_list, 100, replace=False)\n",
    "# subset matched_df by query_hpo_id\n",
    "matched_df = matched_df[matched_df['query_hpo_id'].isin(query_hpo_id_list)]\n",
    "# for each query_hpo_id, sample 1 query_synonym\n",
    "query_hpo_synonym_list = matched_df.groupby('query_hpo_id').apply(lambda x: x.sample(1))\n",
    "# sample 100 query_synonym_id_list\n",
    "query_synonym_id_list = query_hpo_synonym_list.sample(n=100)\n",
    "# subset the comparison_df by query_synonym, and query_hpo_id\n",
    "comparison_sampled_df = comparison_df[comparison_df['query_synonym'].isin(query_synonym_id_list['query_synonym']) & comparison_df['query_hpo_id'].isin(query_synonym_id_list['query_hpo_id'])]"
   ]
  },
  {
   "cell_type": "code",
   "execution_count": 71,
   "metadata": {},
   "outputs": [
    {
     "data": {
      "text/html": [
       "<div>\n",
       "<style scoped>\n",
       "    .dataframe tbody tr th:only-of-type {\n",
       "        vertical-align: middle;\n",
       "    }\n",
       "\n",
       "    .dataframe tbody tr th {\n",
       "        vertical-align: top;\n",
       "    }\n",
       "\n",
       "    .dataframe thead th {\n",
       "        text-align: right;\n",
       "    }\n",
       "</style>\n",
       "<table border=\"1\" class=\"dataframe\">\n",
       "  <thead>\n",
       "    <tr style=\"text-align: right;\">\n",
       "      <th></th>\n",
       "      <th>query_hpo_id</th>\n",
       "      <th>query_synonym</th>\n",
       "      <th>hit_hpo_id</th>\n",
       "      <th>hit_hpo_name</th>\n",
       "      <th>top_k</th>\n",
       "      <th>distance</th>\n",
       "      <th>document</th>\n",
       "    </tr>\n",
       "  </thead>\n",
       "  <tbody>\n",
       "    <tr>\n",
       "      <th>8540</th>\n",
       "      <td>HP:0031296</td>\n",
       "      <td>Cardiac septal hypertrophy</td>\n",
       "      <td>HP:0031296</td>\n",
       "      <td>Atrial septal hypertrophy</td>\n",
       "      <td>0</td>\n",
       "      <td>0.699622</td>\n",
       "      <td>Term: Atrial septal hypertrophy. Synonyms: . D...</td>\n",
       "    </tr>\n",
       "    <tr>\n",
       "      <th>8541</th>\n",
       "      <td>HP:0031296</td>\n",
       "      <td>Cardiac septal hypertrophy</td>\n",
       "      <td>HP:0005144</td>\n",
       "      <td>Ventricular septal hypertrophy</td>\n",
       "      <td>1</td>\n",
       "      <td>0.713095</td>\n",
       "      <td>Term: Ventricular septal hypertrophy. Synonyms...</td>\n",
       "    </tr>\n",
       "    <tr>\n",
       "      <th>8542</th>\n",
       "      <td>HP:0031296</td>\n",
       "      <td>Cardiac septal hypertrophy</td>\n",
       "      <td>HP:0001670</td>\n",
       "      <td>Asymmetric septal hypertrophy</td>\n",
       "      <td>2</td>\n",
       "      <td>0.726855</td>\n",
       "      <td>Term: Asymmetric septal hypertrophy. Synonyms:...</td>\n",
       "    </tr>\n",
       "    <tr>\n",
       "      <th>8543</th>\n",
       "      <td>HP:0031296</td>\n",
       "      <td>Cardiac septal hypertrophy</td>\n",
       "      <td>HP:0001671</td>\n",
       "      <td>Abnormal cardiac septum morphology</td>\n",
       "      <td>3</td>\n",
       "      <td>0.795095</td>\n",
       "      <td>Term: Abnormal cardiac septum morphology. Syno...</td>\n",
       "    </tr>\n",
       "    <tr>\n",
       "      <th>8544</th>\n",
       "      <td>HP:0031296</td>\n",
       "      <td>Cardiac septal hypertrophy</td>\n",
       "      <td>HP:0005129</td>\n",
       "      <td>Congenital hypertrophy of left ventricle</td>\n",
       "      <td>4</td>\n",
       "      <td>0.943997</td>\n",
       "      <td>Term: Congenital hypertrophy of left ventricle...</td>\n",
       "    </tr>\n",
       "    <tr>\n",
       "      <th>...</th>\n",
       "      <td>...</td>\n",
       "      <td>...</td>\n",
       "      <td>...</td>\n",
       "      <td>...</td>\n",
       "      <td>...</td>\n",
       "      <td>...</td>\n",
       "      <td>...</td>\n",
       "    </tr>\n",
       "    <tr>\n",
       "      <th>456070</th>\n",
       "      <td>HP:0033292</td>\n",
       "      <td>Renal fibrin clot</td>\n",
       "      <td>HP:0033292</td>\n",
       "      <td>Glomerular fibrin thrombus</td>\n",
       "      <td>0</td>\n",
       "      <td>0.876562</td>\n",
       "      <td>Term: Glomerular fibrin thrombus. Synonyms: . ...</td>\n",
       "    </tr>\n",
       "    <tr>\n",
       "      <th>456071</th>\n",
       "      <td>HP:0033292</td>\n",
       "      <td>Renal fibrin clot</td>\n",
       "      <td>HP:0033894</td>\n",
       "      <td>Renal arteriolar intraluminal thrombi</td>\n",
       "      <td>1</td>\n",
       "      <td>0.880316</td>\n",
       "      <td>Term: Renal arteriolar intraluminal thrombi. S...</td>\n",
       "    </tr>\n",
       "    <tr>\n",
       "      <th>456072</th>\n",
       "      <td>HP:0033292</td>\n",
       "      <td>Renal fibrin clot</td>\n",
       "      <td>HP:0033277</td>\n",
       "      <td>Glomerular fibrinoid necrosis</td>\n",
       "      <td>2</td>\n",
       "      <td>0.899749</td>\n",
       "      <td>Term: Glomerular fibrinoid necrosis. Synonyms:...</td>\n",
       "    </tr>\n",
       "    <tr>\n",
       "      <th>456073</th>\n",
       "      <td>HP:0033292</td>\n",
       "      <td>Renal fibrin clot</td>\n",
       "      <td>HP:0033396</td>\n",
       "      <td>Glomerular extracapillary fibrin</td>\n",
       "      <td>3</td>\n",
       "      <td>0.918224</td>\n",
       "      <td>Term: Glomerular extracapillary fibrin. Synony...</td>\n",
       "    </tr>\n",
       "    <tr>\n",
       "      <th>456074</th>\n",
       "      <td>HP:0033292</td>\n",
       "      <td>Renal fibrin clot</td>\n",
       "      <td>HP:0032948</td>\n",
       "      <td>Renal interstitial fibrosis</td>\n",
       "      <td>4</td>\n",
       "      <td>0.946620</td>\n",
       "      <td>Term: Renal interstitial fibrosis. Synonyms: ....</td>\n",
       "    </tr>\n",
       "  </tbody>\n",
       "</table>\n",
       "<p>500 rows × 7 columns</p>\n",
       "</div>"
      ],
      "text/plain": [
       "       query_hpo_id               query_synonym  hit_hpo_id  \\\n",
       "8540     HP:0031296  Cardiac septal hypertrophy  HP:0031296   \n",
       "8541     HP:0031296  Cardiac septal hypertrophy  HP:0005144   \n",
       "8542     HP:0031296  Cardiac septal hypertrophy  HP:0001670   \n",
       "8543     HP:0031296  Cardiac septal hypertrophy  HP:0001671   \n",
       "8544     HP:0031296  Cardiac septal hypertrophy  HP:0005129   \n",
       "...             ...                         ...         ...   \n",
       "456070   HP:0033292           Renal fibrin clot  HP:0033292   \n",
       "456071   HP:0033292           Renal fibrin clot  HP:0033894   \n",
       "456072   HP:0033292           Renal fibrin clot  HP:0033277   \n",
       "456073   HP:0033292           Renal fibrin clot  HP:0033396   \n",
       "456074   HP:0033292           Renal fibrin clot  HP:0032948   \n",
       "\n",
       "                                    hit_hpo_name  top_k  distance  \\\n",
       "8540                   Atrial septal hypertrophy      0  0.699622   \n",
       "8541              Ventricular septal hypertrophy      1  0.713095   \n",
       "8542               Asymmetric septal hypertrophy      2  0.726855   \n",
       "8543          Abnormal cardiac septum morphology      3  0.795095   \n",
       "8544    Congenital hypertrophy of left ventricle      4  0.943997   \n",
       "...                                          ...    ...       ...   \n",
       "456070                Glomerular fibrin thrombus      0  0.876562   \n",
       "456071     Renal arteriolar intraluminal thrombi      1  0.880316   \n",
       "456072             Glomerular fibrinoid necrosis      2  0.899749   \n",
       "456073          Glomerular extracapillary fibrin      3  0.918224   \n",
       "456074               Renal interstitial fibrosis      4  0.946620   \n",
       "\n",
       "                                                 document  \n",
       "8540    Term: Atrial septal hypertrophy. Synonyms: . D...  \n",
       "8541    Term: Ventricular septal hypertrophy. Synonyms...  \n",
       "8542    Term: Asymmetric septal hypertrophy. Synonyms:...  \n",
       "8543    Term: Abnormal cardiac septum morphology. Syno...  \n",
       "8544    Term: Congenital hypertrophy of left ventricle...  \n",
       "...                                                   ...  \n",
       "456070  Term: Glomerular fibrin thrombus. Synonyms: . ...  \n",
       "456071  Term: Renal arteriolar intraluminal thrombi. S...  \n",
       "456072  Term: Glomerular fibrinoid necrosis. Synonyms:...  \n",
       "456073  Term: Glomerular extracapillary fibrin. Synony...  \n",
       "456074  Term: Renal interstitial fibrosis. Synonyms: ....  \n",
       "\n",
       "[500 rows x 7 columns]"
      ]
     },
     "execution_count": 71,
     "metadata": {},
     "output_type": "execute_result"
    }
   ],
   "source": [
    "comparison_sampled_df"
   ]
  },
  {
   "cell_type": "code",
   "execution_count": 50,
   "metadata": {},
   "outputs": [
    {
     "name": "stdout",
     "output_type": "stream",
     "text": [
      "Term: Bell's palsy ectropion\n",
      "Document1: Term: Paralytic ectropion. Synonyms: . Definition: A type of ectropion associated with orbicularis muscle weakness caused by cranial nerve VII palsy.\n",
      "Document2: Term: Ectropion of lower eyelids. Synonyms: Everted lower eyelids;Lower eyelid folded out;Lower eyelid turned out. Definition: \n",
      "Document3: Term: Eversion of lateral third of lower eyelids. Synonyms: . Definition: \n",
      "Document4: Term: Ectropion. Synonyms: Everted eyelid;Eyelid folded out;Eyelid turned out. Definition: An outward turning (eversion) or rotation of the eyelid margin.\n",
      "Document5: Term: Cicatricial ectropion. Synonyms: . Definition: An outward turning (eversion) or rotation of the eyelid margin (i.e., ectropion) caused by shortening or contraction of the anterior or middle lamellae related to scarring.\n"
     ]
    }
   ],
   "source": [
    "hp_id = 'HP:0500069'\n",
    "term = comparison_sampled_df[comparison_sampled_df['query_hpo_id'] == hp_id]['query_synonym'].values[0]\n",
    "print(f\"Term: {term}\")\n",
    "document1 = comparison_sampled_df[(comparison_sampled_df['query_hpo_id'] == hp_id) & (comparison_sampled_df['top_k'] ==0)][\"document\"].values[0]\n",
    "print(f\"Document1: {document1}\")\n",
    "document2 = comparison_sampled_df[(comparison_sampled_df['query_hpo_id'] == hp_id) & (comparison_sampled_df['top_k'] ==1)][\"document\"].values[0]\n",
    "print(f\"Document2: {document2}\")\n",
    "document3 = comparison_sampled_df[(comparison_sampled_df['query_hpo_id'] == hp_id) & (comparison_sampled_df['top_k'] ==2)][\"document\"].values[0]\n",
    "print(f\"Document3: {document3}\")\n",
    "document4 = comparison_sampled_df[(comparison_sampled_df['query_hpo_id'] == hp_id) & (comparison_sampled_df['top_k'] ==3)][\"document\"].values[0]\n",
    "print(f\"Document4: {document4}\")\n",
    "document5 = comparison_sampled_df[(comparison_sampled_df['query_hpo_id'] == hp_id) & (comparison_sampled_df['top_k'] ==4)][\"document\"].values[0]\n",
    "print(f\"Document5: {document5}\")"
   ]
  },
  {
   "cell_type": "code",
   "execution_count": 60,
   "metadata": {},
   "outputs": [],
   "source": [
    "class Choice(BaseModel):\n",
    "    choice: int"
   ]
  },
  {
   "cell_type": "code",
   "execution_count": 63,
   "metadata": {},
   "outputs": [
    {
     "name": "stdout",
     "output_type": "stream",
     "text": [
      "User choice: 1\n"
     ]
    },
    {
     "name": "stderr",
     "output_type": "stream",
     "text": [
      "/var/folders/jt/xqkngjbx2vj5dhrgmccfc01m0000gp/T/ipykernel_86224/3134575721.py:33: PydanticDeprecatedSince20: The `dict` method is deprecated; use `model_dump` instead. Deprecated in Pydantic V2.0 to be removed in V3.0. See Pydantic V2 Migration Guide at https://errors.pydantic.dev/2.10/migration/\n",
      "  results_choice= gpt_response.dict()[\"choice\"]\n"
     ]
    }
   ],
   "source": [
    "\n",
    "system_message = \"Single Choice: Select the best-matching HPO term for the given term based on their definitions. Respond with 1, 2, 3, 4, or 5.\"\n",
    "user_message = '''\n",
    "        term: {term}\\n \n",
    "        =====================\\n\n",
    "        1. {document1}\\n\n",
    "        2. {document2}\\n\n",
    "        3. {document3}\\n\n",
    "        4. {document4}\\n\n",
    "        5. {document5}\\n\n",
    "        '''.format(\n",
    "            term=term,\n",
    "            document1=document1,\n",
    "            document2=document2,\n",
    "            document3=document3,\n",
    "            document4=document4,\n",
    "            document5=document5\n",
    "        )\n",
    "client = OpenAI(api_key=openai_api_key)\n",
    "completion = client.beta.chat.completions.parse(\n",
    "    model=open_ai_model,\n",
    "    messages=[\n",
    "        {\"role\": \"system\", \"content\":  system_message},\n",
    "        {\"role\": \"user\", \"content\": user_message}\n",
    "    ],\n",
    "    max_completion_tokens = 1024,\n",
    "    temperature = 0.8,\n",
    "    response_format=Choice,\n",
    "    # top_p=1,\n",
    "    # frequency_penalty=0,\n",
    "    # presence_penalty=0\n",
    ")\n",
    "gpt_response = completion.choices[0].message.parsed\n",
    "results_choice= gpt_response.dict()[\"choice\"]\n",
    "print(f'User choice: {results_choice}')"
   ]
  },
  {
   "cell_type": "code",
   "execution_count": 72,
   "metadata": {},
   "outputs": [
    {
     "data": {
      "text/plain": [
       "1"
      ]
     },
     "execution_count": 72,
     "metadata": {},
     "output_type": "execute_result"
    }
   ],
   "source": [
    "results_choice"
   ]
  },
  {
   "cell_type": "code",
   "execution_count": null,
   "metadata": {},
   "outputs": [],
   "source": []
  }
 ],
 "metadata": {
  "kernelspec": {
   "display_name": ".venv",
   "language": "python",
   "name": "python3"
  },
  "language_info": {
   "codemirror_mode": {
    "name": "ipython",
    "version": 3
   },
   "file_extension": ".py",
   "mimetype": "text/x-python",
   "name": "python",
   "nbconvert_exporter": "python",
   "pygments_lexer": "ipython3",
   "version": "3.12.4"
  }
 },
 "nbformat": 4,
 "nbformat_minor": 2
}
